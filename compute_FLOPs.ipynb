{
 "cells": [
  {
   "cell_type": "code",
   "execution_count": 10,
   "id": "8d6ccd75",
   "metadata": {},
   "outputs": [],
   "source": [
    "# MacLight – GFLOPs & Time‑Budget Notebook  \n",
    "# ------------------------------------------------------------\n",
    "# This script can be executed as a Jupyter notebook (VS Code, JupyterLab)\n",
    "# or run top‑to‑bottom as a plain Python file.  Cells are delimited by\n",
    "# `# %%` markers so VS Code automatically recognises them.\n",
    "#\n",
    "# ▶ WHAT IT DOES\n",
    "#   • loads MacLight networks (VAE, PolicyNet, ValueNet)\n",
    "#   • measures MACs / GFLOPs with `ptflops`\n",
    "#   • multiplies by call‑counts to give GFLOPs per EPISODE and for the\n",
    "#     whole 80‑episode training run in the original paper\n",
    "#   • prints a small timing estimate based on the *current GPU* \n",
    "#     (useful to compare laptop vs Colab A100)\n",
    "# ------------------------------------------------------------"
   ]
  },
  {
   "cell_type": "code",
   "execution_count": 11,
   "id": "0ced5397",
   "metadata": {},
   "outputs": [
    {
     "name": "stdout",
     "output_type": "stream",
     "text": [
      "Note: you may need to restart the kernel to use updated packages.\n"
     ]
    },
    {
     "name": "stderr",
     "output_type": "stream",
     "text": [
      "\n",
      "[notice] A new release of pip is available: 25.0.1 -> 25.1.1\n",
      "[notice] To update, run: python.exe -m pip install --upgrade pip\n"
     ]
    },
    {
     "name": "stdout",
     "output_type": "stream",
     "text": [
      "Defaulting to user installation because normal site-packages is not writeable\n",
      "Requirement already satisfied: torch_geometric in c:\\users\\yousf\\appdata\\roaming\\python\\python311\\site-packages (2.6.1)\n",
      "Requirement already satisfied: aiohttp in c:\\users\\yousf\\appdata\\roaming\\python\\python311\\site-packages (from torch_geometric) (3.9.3)\n",
      "Requirement already satisfied: fsspec in c:\\users\\yousf\\appdata\\roaming\\python\\python311\\site-packages (from torch_geometric) (2023.10.0)\n",
      "Requirement already satisfied: jinja2 in c:\\users\\yousf\\appdata\\roaming\\python\\python311\\site-packages (from torch_geometric) (3.1.4)\n",
      "Requirement already satisfied: numpy in c:\\users\\yousf\\appdata\\roaming\\python\\python311\\site-packages (from torch_geometric) (1.26.4)\n",
      "Requirement already satisfied: psutil>=5.8.0 in c:\\users\\yousf\\appdata\\roaming\\python\\python311\\site-packages (from torch_geometric) (7.0.0)\n",
      "Requirement already satisfied: pyparsing in c:\\users\\yousf\\appdata\\roaming\\python\\python311\\site-packages (from torch_geometric) (3.2.3)\n",
      "Requirement already satisfied: requests in c:\\users\\yousf\\appdata\\roaming\\python\\python311\\site-packages (from torch_geometric) (2.27.1)\n",
      "Requirement already satisfied: tqdm in c:\\users\\yousf\\appdata\\roaming\\python\\python311\\site-packages (from torch_geometric) (4.66.2)\n",
      "Requirement already satisfied: aiosignal>=1.1.2 in c:\\users\\yousf\\appdata\\roaming\\python\\python311\\site-packages (from aiohttp->torch_geometric) (1.3.1)\n",
      "Requirement already satisfied: attrs>=17.3.0 in c:\\users\\yousf\\appdata\\roaming\\python\\python311\\site-packages (from aiohttp->torch_geometric) (23.1.0)\n",
      "Requirement already satisfied: frozenlist>=1.1.1 in c:\\users\\yousf\\appdata\\roaming\\python\\python311\\site-packages (from aiohttp->torch_geometric) (1.4.1)\n",
      "Requirement already satisfied: multidict<7.0,>=4.5 in c:\\users\\yousf\\appdata\\roaming\\python\\python311\\site-packages (from aiohttp->torch_geometric) (6.0.5)\n",
      "Requirement already satisfied: yarl<2.0,>=1.0 in c:\\users\\yousf\\appdata\\roaming\\python\\python311\\site-packages (from aiohttp->torch_geometric) (1.9.4)\n",
      "Requirement already satisfied: MarkupSafe>=2.0 in c:\\users\\yousf\\appdata\\roaming\\python\\python311\\site-packages (from jinja2->torch_geometric) (2.1.5)\n",
      "Requirement already satisfied: urllib3<1.27,>=1.21.1 in c:\\users\\yousf\\appdata\\roaming\\python\\python311\\site-packages (from requests->torch_geometric) (1.26.16)\n",
      "Requirement already satisfied: certifi>=2017.4.17 in c:\\users\\yousf\\appdata\\roaming\\python\\python311\\site-packages (from requests->torch_geometric) (2023.7.22)\n",
      "Requirement already satisfied: charset-normalizer~=2.0.0 in c:\\users\\yousf\\appdata\\roaming\\python\\python311\\site-packages (from requests->torch_geometric) (2.0.12)\n",
      "Requirement already satisfied: idna<4,>=2.5 in c:\\users\\yousf\\appdata\\roaming\\python\\python311\\site-packages (from requests->torch_geometric) (3.4)\n",
      "Requirement already satisfied: colorama in c:\\users\\yousf\\appdata\\roaming\\python\\python311\\site-packages (from tqdm->torch_geometric) (0.4.6)\n",
      "Note: you may need to restart the kernel to use updated packages.\n"
     ]
    },
    {
     "name": "stderr",
     "output_type": "stream",
     "text": [
      "\n",
      "[notice] A new release of pip is available: 25.0.1 -> 25.1.1\n",
      "[notice] To update, run: python.exe -m pip install --upgrade pip\n"
     ]
    }
   ],
   "source": [
    "# %% 0  – Install dependencies if needed\n",
    "%pip -q install ptflops \n",
    "%pip install torch_geometric"
   ]
  },
  {
   "cell_type": "code",
   "execution_count": 16,
   "id": "ee24d310",
   "metadata": {},
   "outputs": [
    {
     "name": "stdout",
     "output_type": "stream",
     "text": [
      "▶ Using repo at: c:\\Users\\yousf\\Bureau\\PFE_important\\Work\\Codes\\MacLight\n",
      "\n"
     ]
    }
   ],
   "source": [
    "# %% 1  – Imports and repo path\n",
    "import os, sys, time, math, torch\n",
    "from pathlib import Path\n",
    "from ptflops import get_model_complexity_info\n",
    "\n",
    "#  ↳ if running in Colab, clone the repo automatically\n",
    "if \"google.colab\" in sys.modules:\n",
    "    if not Path(\"MacLight\").exists():\n",
    "        !git clone -q https://github.com/wissem18/MacLight.git\n",
    "    repo_root = Path(\"MacLight\")\n",
    "    os.chdir(repo_root)\n",
    "else:\n",
    "    # local execution\n",
    "    repo_root = Path.cwd()\n",
    "    assert (repo_root / 'run_Ours.py').exists(), \"Run inside the MacLight repo root\"\n",
    "\n",
    "sys.path.append(str(repo_root))\n",
    "\n",
    "print(f\"▶ Using repo at: {repo_root}\\n\")"
   ]
  },
  {
   "cell_type": "code",
   "execution_count": 17,
   "id": "b5aaa285",
   "metadata": {},
   "outputs": [],
   "source": [
    "# %% 2  – Load network definitions\n",
    "from net.net import VAE, PolicyNet, ValueNet, Attention\n",
    "\n",
    "# Dimensions taken from original config\n",
    "STATE_DIM   = 33    \n",
    "LATENT_DIM  = 10    \n",
    "HIDDEN_DIM  = STATE_DIM * 2  \n",
    "ACTION_DIM  = 8        "
   ]
  },
  {
   "cell_type": "code",
   "execution_count": 18,
   "id": "c88e9383",
   "metadata": {},
   "outputs": [],
   "source": [
    "# %% 3  – Helper to compute GFLOPs\n",
    "\n",
    "def gflops_and_params(model, inp_shape):\n",
    "    macs, params = get_model_complexity_info(model, inp_shape,\n",
    "                                             as_strings=False,\n",
    "                                             print_per_layer_stat=False)\n",
    "    return (macs * 2) / 1e9, params / 1e6\n"
   ]
  },
  {
   "cell_type": "code",
   "execution_count": 19,
   "id": "651a8ae3",
   "metadata": {},
   "outputs": [],
   "source": [
    "# %% 4  – Instantiate models\n",
    "vae   = VAE(STATE_DIM, LATENT_DIM)\n",
    "policy = PolicyNet(STATE_DIM, HIDDEN_DIM, ACTION_DIM)\n",
    "value  = ValueNet(STATE_DIM, HIDDEN_DIM, LATENT_DIM)"
   ]
  },
  {
   "cell_type": "code",
   "execution_count": 20,
   "id": "2adf35a2",
   "metadata": {},
   "outputs": [
    {
     "name": "stdout",
     "output_type": "stream",
     "text": [
      "VAE                : 0.0178 GFLOPs | 0.81 M params\n",
      "PolicyNet          : 0.0000 GFLOPs | 0.01 M params\n",
      "ValueNet           : 0.0000 GFLOPs | 0.01 M params\n"
     ]
    }
   ],
   "source": [
    "# %% 5  – GFLOPs per forward pass\n",
    "vae_g, vae_p = gflops_and_params(vae,   (STATE_DIM, 4, 4))\n",
    "pol_g, pol_p = gflops_and_params(policy, (STATE_DIM ,))\n",
    "val_g, val_p = gflops_and_params(value,  (STATE_DIM + LATENT_DIM,))\n",
    "\n",
    "print(f\"VAE                : {vae_g:.4f} GFLOPs | {vae_p:.2f} M params\")\n",
    "print(f\"PolicyNet          : {pol_g:.4f} GFLOPs | {pol_p:.2f} M params\")\n",
    "print(f\"ValueNet           : {val_g:.4f} GFLOPs | {val_p:.2f} M params\")"
   ]
  },
  {
   "cell_type": "code",
   "execution_count": 44,
   "id": "9b626f18",
   "metadata": {},
   "outputs": [
    {
     "name": "stdout",
     "output_type": "stream",
     "text": [
      "GFLOPs for VAE per episode  :  38.53\n",
      "GFLOPs per episode   : 58.81\n",
      "GFLOPs for 80 eps : 4704.73 \n",
      "\n"
     ]
    }
   ],
   "source": [
    "# %% 6  – Total GFLOPs per episode & full training run\n",
    "T, K, E, L = 720, 16, 10, 80\n",
    "vae_tot    = 3 * vae_g * T\n",
    "actor_tot  = 3 * pol_g * T * K \n",
    "critic_tot = 3 * val_g * T * K * (1 + E)\n",
    "\n",
    "per_episode = vae_tot + actor_tot + critic_tot\n",
    "print(f\"GFLOPs for VAE per episode  : {vae_tot: .2f}\")\n",
    "print(f\"GFLOPs per episode   : {per_episode:.2f}\")\n",
    "print(f\"GFLOPs for {L} eps : {per_episode*L:.2f} \\n\")\n"
   ]
  },
  {
   "cell_type": "code",
   "execution_count": 47,
   "id": "0187c500",
   "metadata": {},
   "outputs": [
    {
     "name": "stdout",
     "output_type": "stream",
     "text": [
      "Attention          : 0.0004 GFLOPS | 0.01 M params\n",
      "PolicyNet          : 0.0000 GFLOPs | 0.01 M params\n",
      "ValueNet           : 0.0001 GFLOPs | 0.03 M params\n",
      "GFLOPs per episode   : 25.35\n"
     ]
    }
   ],
   "source": [
    "# Calculate GFLOPS for the method with single head attention\n",
    "from net.net import Attention\n",
    "GLOBAL_EMBED_DIM=32\n",
    "attention=Attention(32,64,32)\n",
    "policy = PolicyNet(STATE_DIM, HIDDEN_DIM, ACTION_DIM)\n",
    "value  = ValueNet(STATE_DIM,(STATE_DIM+GLOBAL_EMBED_DIM)*2, GLOBAL_EMBED_DIM)\n",
    "pol_g, pol_p = gflops_and_params(policy, (STATE_DIM ,))\n",
    "val_g, val_p = gflops_and_params(value,  (STATE_DIM + GLOBAL_EMBED_DIM,))\n",
    "att_g, att_p =gflops_and_params(attention,(16,STATE_DIM,))\n",
    "print(f\"Attention          : {att_g:.4f} GFLOPS | {att_p:.2f} M params\")\n",
    "print(f\"PolicyNet          : {pol_g:.4f} GFLOPs | {pol_p:.2f} M params\")\n",
    "print(f\"ValueNet           : {val_g:.4f} GFLOPs | {val_p:.2f} M params\")\n",
    "\n",
    "actor_att_tot  = 3 * pol_g * T * K * (1 + E)\n",
    "critic_att_tot = 3 * val_g * T * K * (1 + E)\n",
    "att_tot = 3 * att_g\n",
    "\n",
    "per_episode = att_tot + actor_att_tot + critic_att_tot\n",
    "print(f\"GFLOPs per episode   : {per_episode:.2f}\")\n"
   ]
  }
 ],
 "metadata": {
  "kernelspec": {
   "display_name": "Python 3",
   "language": "python",
   "name": "python3"
  },
  "language_info": {
   "codemirror_mode": {
    "name": "ipython",
    "version": 3
   },
   "file_extension": ".py",
   "mimetype": "text/x-python",
   "name": "python",
   "nbconvert_exporter": "python",
   "pygments_lexer": "ipython3",
   "version": "3.11.4"
  }
 },
 "nbformat": 4,
 "nbformat_minor": 5
}
