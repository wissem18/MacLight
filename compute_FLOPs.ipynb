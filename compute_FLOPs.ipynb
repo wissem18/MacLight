{
 "cells": [
  {
   "cell_type": "code",
   "execution_count": 1,
   "id": "8d6ccd75",
   "metadata": {},
   "outputs": [],
   "source": [
    "# MacLight – GFLOPs & Time‑Budget Notebook  \n",
    "# ------------------------------------------------------------\n",
    "# This script can be executed as a Jupyter notebook (VS Code, JupyterLab)\n",
    "# or run top‑to‑bottom as a plain Python file.  Cells are delimited by\n",
    "# `# %%` markers so VS Code automatically recognises them.\n",
    "#\n",
    "# ▶ WHAT IT DOES\n",
    "#   • loads MacLight networks (VAE, PolicyNet, ValueNet)\n",
    "#   • measures MACs / GFLOPs with `ptflops`\n",
    "#   • multiplies by call‑counts to give GFLOPs per EPISODE and for the\n",
    "#     whole 80‑episode training run in the original paper\n",
    "#   • prints a small timing estimate based on the *current GPU* \n",
    "#     (useful to compare laptop vs Colab A100)\n",
    "# ------------------------------------------------------------"
   ]
  },
  {
   "cell_type": "code",
   "execution_count": 2,
   "id": "0ced5397",
   "metadata": {},
   "outputs": [
    {
     "name": "stdout",
     "output_type": "stream",
     "text": [
      "Note: you may need to restart the kernel to use updated packages.\n",
      "Requirement already satisfied: torch_geometric in /Users/wissem.yousfi/miniconda3/envs/maclight_env/lib/python3.8/site-packages (2.6.1)\n",
      "Requirement already satisfied: aiohttp in /Users/wissem.yousfi/miniconda3/envs/maclight_env/lib/python3.8/site-packages (from torch_geometric) (3.10.11)\n",
      "Requirement already satisfied: fsspec in /Users/wissem.yousfi/miniconda3/envs/maclight_env/lib/python3.8/site-packages (from torch_geometric) (2025.3.0)\n",
      "Requirement already satisfied: jinja2 in /Users/wissem.yousfi/miniconda3/envs/maclight_env/lib/python3.8/site-packages (from torch_geometric) (3.1.6)\n",
      "Requirement already satisfied: numpy in /Users/wissem.yousfi/miniconda3/envs/maclight_env/lib/python3.8/site-packages (from torch_geometric) (1.24.4)\n",
      "Requirement already satisfied: psutil>=5.8.0 in /Users/wissem.yousfi/miniconda3/envs/maclight_env/lib/python3.8/site-packages (from torch_geometric) (7.0.0)\n",
      "Requirement already satisfied: pyparsing in /Users/wissem.yousfi/miniconda3/envs/maclight_env/lib/python3.8/site-packages (from torch_geometric) (3.1.4)\n",
      "Requirement already satisfied: requests in /Users/wissem.yousfi/miniconda3/envs/maclight_env/lib/python3.8/site-packages (from torch_geometric) (2.32.4)\n",
      "Requirement already satisfied: tqdm in /Users/wissem.yousfi/miniconda3/envs/maclight_env/lib/python3.8/site-packages (from torch_geometric) (4.67.1)\n",
      "Requirement already satisfied: aiohappyeyeballs>=2.3.0 in /Users/wissem.yousfi/miniconda3/envs/maclight_env/lib/python3.8/site-packages (from aiohttp->torch_geometric) (2.4.4)\n",
      "Requirement already satisfied: aiosignal>=1.1.2 in /Users/wissem.yousfi/miniconda3/envs/maclight_env/lib/python3.8/site-packages (from aiohttp->torch_geometric) (1.3.1)\n",
      "Requirement already satisfied: attrs>=17.3.0 in /Users/wissem.yousfi/miniconda3/envs/maclight_env/lib/python3.8/site-packages (from aiohttp->torch_geometric) (25.3.0)\n",
      "Requirement already satisfied: frozenlist>=1.1.1 in /Users/wissem.yousfi/miniconda3/envs/maclight_env/lib/python3.8/site-packages (from aiohttp->torch_geometric) (1.5.0)\n",
      "Requirement already satisfied: multidict<7.0,>=4.5 in /Users/wissem.yousfi/miniconda3/envs/maclight_env/lib/python3.8/site-packages (from aiohttp->torch_geometric) (6.1.0)\n",
      "Requirement already satisfied: yarl<2.0,>=1.12.0 in /Users/wissem.yousfi/miniconda3/envs/maclight_env/lib/python3.8/site-packages (from aiohttp->torch_geometric) (1.15.2)\n",
      "Requirement already satisfied: async-timeout<6.0,>=4.0 in /Users/wissem.yousfi/miniconda3/envs/maclight_env/lib/python3.8/site-packages (from aiohttp->torch_geometric) (5.0.1)\n",
      "Requirement already satisfied: MarkupSafe>=2.0 in /Users/wissem.yousfi/miniconda3/envs/maclight_env/lib/python3.8/site-packages (from jinja2->torch_geometric) (2.1.5)\n",
      "Requirement already satisfied: charset_normalizer<4,>=2 in /Users/wissem.yousfi/miniconda3/envs/maclight_env/lib/python3.8/site-packages (from requests->torch_geometric) (3.4.2)\n",
      "Requirement already satisfied: idna<4,>=2.5 in /Users/wissem.yousfi/miniconda3/envs/maclight_env/lib/python3.8/site-packages (from requests->torch_geometric) (3.10)\n",
      "Requirement already satisfied: urllib3<3,>=1.21.1 in /Users/wissem.yousfi/miniconda3/envs/maclight_env/lib/python3.8/site-packages (from requests->torch_geometric) (2.2.3)\n",
      "Requirement already satisfied: certifi>=2017.4.17 in /Users/wissem.yousfi/miniconda3/envs/maclight_env/lib/python3.8/site-packages (from requests->torch_geometric) (2025.4.26)\n",
      "Requirement already satisfied: typing-extensions>=4.1.0 in /Users/wissem.yousfi/miniconda3/envs/maclight_env/lib/python3.8/site-packages (from multidict<7.0,>=4.5->aiohttp->torch_geometric) (4.12.2)\n",
      "Requirement already satisfied: propcache>=0.2.0 in /Users/wissem.yousfi/miniconda3/envs/maclight_env/lib/python3.8/site-packages (from yarl<2.0,>=1.12.0->aiohttp->torch_geometric) (0.2.0)\n",
      "Note: you may need to restart the kernel to use updated packages.\n"
     ]
    }
   ],
   "source": [
    "# %% 0  – Install dependencies if needed\n",
    "%pip -q install ptflops \n",
    "%pip install torch_geometric"
   ]
  },
  {
   "cell_type": "code",
   "execution_count": 11,
   "id": "ee24d310",
   "metadata": {},
   "outputs": [
    {
     "name": "stdout",
     "output_type": "stream",
     "text": [
      "▶ Using repo at: /Users/wissem.yousfi/Desktop/Work/Codes/MacLight\n",
      "\n"
     ]
    }
   ],
   "source": [
    "# %% 1  – Imports and repo path\n",
    "import os, sys, time, math, torch\n",
    "from pathlib import Path\n",
    "from ptflops import get_model_complexity_info\n",
    "\n",
    "#  ↳ if running in Colab, clone the repo automatically\n",
    "if \"google.colab\" in sys.modules:\n",
    "    if not Path(\"MacLight\").exists():\n",
    "        !git clone -q https://github.com/wissem18/MacLight.git\n",
    "    repo_root = Path(\"MacLight\")\n",
    "    os.chdir(repo_root)\n",
    "else:\n",
    "    # local execution\n",
    "    repo_root = Path.cwd()\n",
    "    assert (repo_root / 'run_Ours.py').exists(), \"Run inside the MacLight repo root\"\n",
    "\n",
    "sys.path.append(str(repo_root))\n",
    "\n",
    "print(f\"▶ Using repo at: {repo_root}\\n\")"
   ]
  },
  {
   "cell_type": "code",
   "execution_count": 14,
   "id": "b5aaa285",
   "metadata": {},
   "outputs": [
    {
     "ename": "ImportError",
     "evalue": "cannot import name 'Attention' from 'net.net' (/Users/wissem.yousfi/Desktop/Work/Codes/MacLight/net/net.py)",
     "output_type": "error",
     "traceback": [
      "\u001b[0;31m---------------------------------------------------------------------------\u001b[0m",
      "\u001b[0;31mImportError\u001b[0m                               Traceback (most recent call last)",
      "Cell \u001b[0;32mIn[14], line 2\u001b[0m\n\u001b[1;32m      1\u001b[0m \u001b[38;5;66;03m# %% 2  – Load network definitions\u001b[39;00m\n\u001b[0;32m----> 2\u001b[0m \u001b[38;5;28;01mfrom\u001b[39;00m \u001b[38;5;21;01mnet\u001b[39;00m\u001b[38;5;21;01m.\u001b[39;00m\u001b[38;5;21;01mnet\u001b[39;00m \u001b[38;5;28;01mimport\u001b[39;00m  PolicyNet, ValueNet, VAE, Attention\n\u001b[1;32m      4\u001b[0m \u001b[38;5;66;03m# Dimensions taken from original config\u001b[39;00m\n\u001b[1;32m      5\u001b[0m STATE_DIM   \u001b[38;5;241m=\u001b[39m \u001b[38;5;241m33\u001b[39m    \n",
      "\u001b[0;31mImportError\u001b[0m: cannot import name 'Attention' from 'net.net' (/Users/wissem.yousfi/Desktop/Work/Codes/MacLight/net/net.py)"
     ]
    }
   ],
   "source": [
    "# %% 2  – Load network definitions\n",
    "from net.net import  PolicyNet, ValueNet, VAE, Attention\n",
    "\n",
    "# Dimensions taken from original config\n",
    "STATE_DIM   = 33    \n",
    "LATENT_DIM  = 10     \n",
    "HIDDEN_DIM  = STATE_DIM * 2  \n",
    "ACTION_DIM  = 8        "
   ]
  },
  {
   "cell_type": "code",
   "execution_count": 4,
   "id": "c88e9383",
   "metadata": {},
   "outputs": [],
   "source": [
    "# %% 3  – Helper to compute GFLOPs\n",
    "\n",
    "def gflops_and_params(model, inp_shape):\n",
    "    macs, params = get_model_complexity_info(model, inp_shape,\n",
    "                                             as_strings=False,\n",
    "                                             print_per_layer_stat=False)\n",
    "    return (macs * 2) / 1e9, params / 1e6\n"
   ]
  },
  {
   "cell_type": "code",
   "execution_count": 5,
   "id": "651a8ae3",
   "metadata": {},
   "outputs": [
    {
     "ename": "NameError",
     "evalue": "name 'VAE' is not defined",
     "output_type": "error",
     "traceback": [
      "\u001b[0;31m---------------------------------------------------------------------------\u001b[0m",
      "\u001b[0;31mNameError\u001b[0m                                 Traceback (most recent call last)",
      "Cell \u001b[0;32mIn[5], line 2\u001b[0m\n\u001b[1;32m      1\u001b[0m \u001b[38;5;66;03m# %% 4  – Instantiate models\u001b[39;00m\n\u001b[0;32m----> 2\u001b[0m vae   \u001b[38;5;241m=\u001b[39m \u001b[43mVAE\u001b[49m(STATE_DIM, LATENT_DIM)\n\u001b[1;32m      3\u001b[0m policy \u001b[38;5;241m=\u001b[39m PolicyNet(STATE_DIM, HIDDEN_DIM, ACTION_DIM)\n\u001b[1;32m      4\u001b[0m value  \u001b[38;5;241m=\u001b[39m ValueNet(STATE_DIM, HIDDEN_DIM, LATENT_DIM)\n",
      "\u001b[0;31mNameError\u001b[0m: name 'VAE' is not defined"
     ]
    }
   ],
   "source": [
    "# %% 4  – Instantiate models\n",
    "vae   = VAE(STATE_DIM, LATENT_DIM)\n",
    "policy = PolicyNet(STATE_DIM, HIDDEN_DIM, ACTION_DIM)\n",
    "value  = ValueNet(STATE_DIM, HIDDEN_DIM, LATENT_DIM)"
   ]
  },
  {
   "cell_type": "code",
   "execution_count": 15,
   "id": "2adf35a2",
   "metadata": {},
   "outputs": [
    {
     "name": "stdout",
     "output_type": "stream",
     "text": [
      "VAE                : 0.0178 GFLOPs | 0.81 M params\n",
      "PolicyNet          : 0.0000 GFLOPs | 0.01 M params\n",
      "ValueNet           : 0.0000 GFLOPs | 0.01 M params\n"
     ]
    }
   ],
   "source": [
    "# %% 5  – GFLOPs per forward pass\n",
    "vae_g, vae_p = gflops_and_params(vae,   (STATE_DIM, 4, 4))\n",
    "pol_g, pol_p = gflops_and_params(policy, (STATE_DIM ,))\n",
    "val_g, val_p = gflops_and_params(value,  (STATE_DIM + LATENT_DIM,))\n",
    "\n",
    "print(f\"VAE                : {vae_g:.4f} GFLOPs | {vae_p:.2f} M params\")\n",
    "print(f\"PolicyNet          : {pol_g:.4f} GFLOPs | {pol_p:.2f} M params\")\n",
    "print(f\"ValueNet           : {val_g:.4f} GFLOPs | {val_p:.2f} M params\")"
   ]
  },
  {
   "cell_type": "code",
   "execution_count": 21,
   "id": "9b626f18",
   "metadata": {},
   "outputs": [
    {
     "name": "stdout",
     "output_type": "stream",
     "text": [
      "GFLOPs for VAE per episode  :  38.53\n",
      "GFLOPs per episode   : 44.76\n",
      "GFLOPs for 80 eps : 3580.92 \n",
      "\n"
     ]
    }
   ],
   "source": [
    "# %% 6  – Total GFLOPs per episode & full training run\n",
    "T, K, E, L = 720, 16, 10, 80\n",
    "vae_tot    = 3 * vae_g * T\n",
    "actor_tot  = 3 * pol_g * T * K\n",
    "critic_tot = 3 * val_g * T * K * (1 + E)\n",
    "\n",
    "per_episode = vae_tot + actor_tot + critic_tot\n",
    "print(f\"GFLOPs for VAE per episode  : {vae_tot: .2f}\")\n",
    "print(f\"GFLOPs per episode   : {per_episode:.2f}\")\n",
    "print(f\"GFLOPs for {L} eps : {per_episode*L:.2f} \\n\")"
   ]
  },
  {
   "cell_type": "code",
   "execution_count": 42,
   "id": "f2a10840",
   "metadata": {},
   "outputs": [
    {
     "name": "stdout",
     "output_type": "stream",
     "text": [
      "<generator object Module.parameters at 0x000001CF5D0C6F80>\n"
     ]
    }
   ],
   "source": [
    "from agent.Ours_agent import MacLight\n",
    "import torch\n",
    "\n",
    "ckpt = torch.load(\n",
    "    \"ckpt/block_normal/Ours/42_Ours_win32.pt\",\n",
    "    map_location='cpu',\n",
    "    weights_only=False)       # legacy behaviour\n",
    "print(ckpt['agent']['B1'].actor.parameters())\n",
    "  "
   ]
  }
 ],
 "metadata": {
  "kernelspec": {
   "display_name": "maclight_env",
   "language": "python",
   "name": "python3"
  },
  "language_info": {
   "codemirror_mode": {
    "name": "ipython",
    "version": 3
   },
   "file_extension": ".py",
   "mimetype": "text/x-python",
   "name": "python",
   "nbconvert_exporter": "python",
   "pygments_lexer": "ipython3",
   "version": "3.8.20"
  }
 },
 "nbformat": 4,
 "nbformat_minor": 5
}
